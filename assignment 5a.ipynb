{
 "cells": [
  {
   "cell_type": "code",
   "execution_count": 1,
   "id": "f0d9cf66",
   "metadata": {},
   "outputs": [
    {
     "data": {
      "text/plain": [
       "{'family members': ['hannu',\n",
       "  'shamshad',\n",
       "  'ashi',\n",
       "  'mobeena',\n",
       "  'ayan',\n",
       "  'farha',\n",
       "  'faiz',\n",
       "  'jasmine',\n",
       "  'riyaz',\n",
       "  'zabi']}"
      ]
     },
     "execution_count": 1,
     "metadata": {},
     "output_type": "execute_result"
    }
   ],
   "source": [
    "dictt={\"family members\":[\"hannu\",\"shamshad\",\"ashi\",\"mobeena\",\"ayan\",\"farha\",\"faiz\",\"jasmine\",\"riyaz\",\"zabi\"]}\n",
    "dictt"
   ]
  },
  {
   "cell_type": "code",
   "execution_count": 17,
   "id": "f9f7ed63",
   "metadata": {},
   "outputs": [
    {
     "name": "stdout",
     "output_type": "stream",
     "text": [
      "hannu\n",
      "favorite family member is mobeena\n"
     ]
    }
   ],
   "source": [
    "\n",
    "dictt={\"family_members\":[\"hannu\",\"shamshad\",\"ashi\",\"mobeena\",\"ayan\",\"farha\",\"faiz\",\"jasmine\",\"riyaz\",\"zabi\"],\"relation\":[\"fathername\",\"mothername\",\"sister\",\"sister\",\"soninlaw\",\"daughterinlaw\",\"brother\",\"sisterinlaw\",\"brotherinlaw\",\"brotherinlaw\"]}\n",
    "print(dictt[\"family_members\"][0])\n",
    "print(\"favorite family member is\",dictt[\"family_members\"][-7])"
   ]
  },
  {
   "cell_type": "code",
   "execution_count": 4,
   "id": "3c4785dc",
   "metadata": {},
   "outputs": [
    {
     "name": "stdout",
     "output_type": "stream",
     "text": [
      "intelligent friend name is prasanna\n",
      "best friend name is uma\n"
     ]
    }
   ],
   "source": [
    "dictt={\"friend_names\": [\"sahithya\",\"arshath\",\"anju\",\"varsha\",\"vishnu\",\"uma\",\"anitha\",\"prasanna\",\"arifa\",\"ashi\"],\"quality\":[\"talk active\", \"anger\", \"intelligent\", \"funny\",\"bestfriend\",\"topper\",\"silent\",\"commedy\",\"joker\",\"wastefellow\"]}\n",
    "print(\"intelligent friend name is\",dictt[\"friend_names\"][-3])\n",
    "print( \"best friend name is\",dictt[\"friend_names\"][-5])"
   ]
  },
  {
   "cell_type": "code",
   "execution_count": 8,
   "id": "c30b9f04",
   "metadata": {},
   "outputs": [
    {
     "name": "stdout",
     "output_type": "stream",
     "text": [
      "rating 1 food name is fish fry\n",
      "rating 1 food name is drumstick\n"
     ]
    }
   ],
   "source": [
    "dictt={\"veg_items\": [\"carrot\",\"beetroot\",\"ladysfingure\",\"potato\",\"tomato\",\"drumstick\",\"brinjal\",\"bitterguard\",\"beans\",\"curryleafs\"],\"rating\":[1,2,3,4,5,6,7,8,9,10],\"nonveg_items\":[\"mutton\",\"chicken\",\"fish\",\"prance\",\"egg\",\"thandoori\",\"beef\",\"crabs\",\"muttonbiryani\",\"fish fry\"]}\n",
    "print(\"rating 1 food name is\",dictt[\"nonveg_items\"][9])\n",
    "print(\"rating 1 food name is\",dictt[\"veg_items\"][5])"
   ]
  },
  {
   "cell_type": "code",
   "execution_count": 9,
   "id": "9bc3a6ae",
   "metadata": {},
   "outputs": [
    {
     "name": "stdout",
     "output_type": "stream",
     "text": [
      "rating 3 city name is guntur\n"
     ]
    }
   ],
   "source": [
    "dictt={\"destination\": [\"visakhapatnam\",\"machilipatnam\",\"vijayawada\",\"guntur\",\"nellore\",\"hyderabad\",\"delhi\",\"agra\",\"gudivada\",\"challapalli\"],\"ratings\": [1,2,3,4,5,6,7,8,9,10]}\n",
    "print(\"rating 3 city name is\",dictt[\"destination\"][3])"
   ]
  },
  {
   "cell_type": "code",
   "execution_count": null,
   "id": "8345166e",
   "metadata": {},
   "outputs": [],
   "source": []
  }
 ],
 "metadata": {
  "kernelspec": {
   "display_name": "Python 3 (ipykernel)",
   "language": "python",
   "name": "python3"
  },
  "language_info": {
   "codemirror_mode": {
    "name": "ipython",
    "version": 3
   },
   "file_extension": ".py",
   "mimetype": "text/x-python",
   "name": "python",
   "nbconvert_exporter": "python",
   "pygments_lexer": "ipython3",
   "version": "3.10.9"
  }
 },
 "nbformat": 4,
 "nbformat_minor": 5
}
